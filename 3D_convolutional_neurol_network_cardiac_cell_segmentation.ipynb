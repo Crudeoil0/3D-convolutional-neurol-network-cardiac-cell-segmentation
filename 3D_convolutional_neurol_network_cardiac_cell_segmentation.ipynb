{
  "nbformat": 4,
  "nbformat_minor": 0,
  "metadata": {
    "colab": {
      "name": "3D convolutional neurol network cardiac cell segmentation.ipynb",
      "provenance": [],
      "private_outputs": true,
      "authorship_tag": "ABX9TyO+c69zxAd66uphWPCwV18E",
      "include_colab_link": true
    },
    "kernelspec": {
      "name": "python3",
      "display_name": "Python 3"
    },
    "language_info": {
      "name": "python"
    },
    "accelerator": "GPU"
  },
  "cells": [
    {
      "cell_type": "markdown",
      "metadata": {
        "id": "view-in-github",
        "colab_type": "text"
      },
      "source": [
        "<a href=\"https://colab.research.google.com/github/Crudeoil0/3D-convolutional-neurol-network-cardiac-cell-segmentation/blob/main/3D_convolutional_neurol_network_cardiac_cell_segmentation.ipynb\" target=\"_parent\"><img src=\"https://colab.research.google.com/assets/colab-badge.svg\" alt=\"Open In Colab\"/></a>"
      ]
    },
    {
      "cell_type": "code",
      "source": [
        "%tensorflow_version 1.15\n",
        "\n"
      ],
      "metadata": {
        "id": "g1s84zBT9KEf"
      },
      "execution_count": null,
      "outputs": []
    },
    {
      "cell_type": "code",
      "source": [
        "! pip install classification-models-3D\n",
        "! pip install install efficientnet-3D\n",
        "! pip install segmentation-models-3D"
      ],
      "metadata": {
        "id": "3epM-YK7Oxiq"
      },
      "execution_count": null,
      "outputs": []
    },
    {
      "cell_type": "code",
      "source": [
        "! pip install patchify\n",
        "! pip install torch\n",
        "! pip install keras.utils"
      ],
      "metadata": {
        "id": "KFLMCUAPP2At"
      },
      "execution_count": null,
      "outputs": []
    },
    {
      "cell_type": "code",
      "source": [
        "import tensorflow as tf\n",
        "import keras\n",
        "print(tf.__version__)\n",
        "print(keras.__version__)"
      ],
      "metadata": {
        "id": "uuC-OKDbQMpj"
      },
      "execution_count": null,
      "outputs": []
    },
    {
      "cell_type": "code",
      "source": [
        "import tensorflow as tf\n",
        "device_name=tf.test.gpu_device_name()\n",
        "if device_name !='/device:GPU:0':\n",
        "  raise SystemError ('GPU device not found')\n",
        "print ('Found GPU at :{}'.format(device_name))"
      ],
      "metadata": {
        "id": "VM1pBs2kQpR_"
      },
      "execution_count": null,
      "outputs": []
    },
    {
      "cell_type": "code",
      "source": [
        "import segmentation_models_3D as sm \n",
        "from skimage import io \n",
        "from patchify import patchify, unpatchify \n",
        "import numpy as np\n",
        "from matplotlib import pyplot as plt \n",
        "from keras import backend as K \n",
        "from keras.util import to_catalgical\n",
        "from sklearn.model_selection import train_test_split"
      ],
      "metadata": {
        "id": "WJU1I5Q4RV8V"
      },
      "execution_count": null,
      "outputs": []
    },
    {
      "cell_type": "code",
      "source": [
        "image=io.imread ('')\n",
        "img_patches=patchify(image, (64,64,64), step=64)\n",
        "\n",
        "mask=imread ('')\n",
        "mask_patches= patchify(mask,(64,64,64),step=64)"
      ],
      "metadata": {
        "id": "YS__-KNTUn1J"
      },
      "execution_count": null,
      "outputs": []
    },
    {
      "cell_type": "code",
      "source": [
        "print (img_patches.shape)"
      ],
      "metadata": {
        "id": "0rBdFcQkrNTJ"
      },
      "execution_count": null,
      "outputs": []
    },
    {
      "cell_type": "code",
      "source": [
        "plt.imshow(img_patches[1,2,3,:,:,32])\n",
        "plt.imshow(mask_patches[1,2,3,:,:,32])"
      ],
      "metadata": {
        "id": "UtF-SpZTrbg3"
      },
      "execution_count": null,
      "outputs": []
    },
    {
      "cell_type": "code",
      "source": [
        "input_img=np.reshape(img_patches, (-1, img_patches.shape[3], img_patches.shape[4], img_patches.shape[5]))\n",
        "input_mask=np.reshape (mask_pathces, (-1, mask_patches.shape[3], mask_patches.shape[4], mask_pathces.shape[5])\n",
        "\n",
        "print(input_img.shape) #n_patches, x, y, z"
      ],
      "metadata": {
        "id": "zHhqfrHhUL_D"
      },
      "execution_count": null,
      "outputs": []
    },
    {
      "cell_type": "code",
      "source": [
        "n_classes=4 #catagories of color we observed on image"
      ],
      "metadata": {
        "id": "AgFGeEsUp1DX"
      },
      "execution_count": null,
      "outputs": []
    },
    {
      "cell_type": "code",
      "source": [
        "#covert gery image to 3 channels by copying channel 3 times.\n",
        "train_img=np.stack((input_img,)*3,axis=-1)\n",
        "train_mask=np.expand_dims(input_mask,axis=4)\n",
        "\n",
        "train_mask_cat = to_categorical (train_mask, num_classes=n_classes)\n",
        "\n",
        "x_train, x_test, y_train, y_test = train_test_split(train_img, train_mask_cat, test_size= 0.30, random_xxx)\n",
        "\n",
        "\n"
      ],
      "metadata": {
        "id": "xNFF7BF7qFqs"
      },
      "execution_count": null,
      "outputs": []
    },
    {
      "cell_type": "code",
      "source": [
        "# Loss Function and coefficients to be used during training;\n",
        "def dice_coefficient (y_true, y_pred):\n",
        "  smoothing_factor =1\n",
        "  flat_y_true=K.flatten (y_true)\n",
        "  flat_y_pred=K.flatten (y_pred)\n",
        "  return (2.*K.sum(flat_y_true*flat_y_pred)+smoothing_factor)/(K.sum(flat_y_true)+K.sum(flat_y_pred))\n",
        "\n",
        "def dice_coefficient_loss(y_true,y_pred):\n",
        "  return 1 -dice_coefficient (y_true, y_pred)\n"
      ],
      "metadata": {
        "id": "H64pCzTCePJe"
      },
      "execution_count": null,
      "outputs": []
    },
    {
      "cell_type": "code",
      "source": [
        "#Define parameters for our model.\n",
        "\n",
        "encoder_weights='imagenet'\n",
        "BACKBONE='vgg16'\n",
        "activation='softmax'\n",
        "patch_size=64\n",
        "n_classes=4\n",
        "channels=3\n",
        "\n",
        "LR=0.0001\n",
        "optim=keras.optimizers.Adam(LR)\n",
        "\n",
        "\n",
        "dice_loss=sm.losses.DiceLoss(class_weights=np.array([0.25,0.25,0.25,0.25]))\n",
        "focal_loss=sm.losses.CategoricalFocalLoss()\n",
        "total_loss=dice_loss + (1*focal_loss)\n",
        "\n",
        "metrics=[sm.metrics.IOUScore(threshold=0.5), sm.metrics.FScore(threshold=0.5)]"
      ],
      "metadata": {
        "id": "V33KqmVDfdvo"
      },
      "execution_count": null,
      "outputs": []
    },
    {
      "cell_type": "code",
      "source": [
        "prepocess_input=sm.get_preprocessing(BACKBONE)"
      ],
      "metadata": {
        "id": "fXXY3S9wiTye"
      },
      "execution_count": null,
      "outputs": []
    },
    {
      "cell_type": "code",
      "source": [
        "X_train_prep=preprocess_input(X_train)\n",
        "X_test_prep=preprocess_input(X_test)"
      ],
      "metadata": {
        "id": "h8SjD8xWiZk2"
      },
      "execution_count": null,
      "outputs": []
    },
    {
      "cell_type": "code",
      "source": [
        "model=sm.Unet(BACKBONE, classes=n_classes,\n",
        "              input_shape=(patch_size,patch_size,patch_size,channels),\n",
        "              encoder_weights=encoder_weights,\n",
        "              activation=activation)\n",
        "\n",
        "model.compile(optimizer=optim, loss=total_loss, metrics=metrics)\n",
        "print(model.summary())"
      ],
      "metadata": {
        "id": "agNuHG2FioHW"
      },
      "execution_count": null,
      "outputs": []
    },
    {
      "cell_type": "code",
      "source": [
        "history=model.fit(X_train_prep,\n",
        "                  y_train,\n",
        "                  batch_size=8,\n",
        "                  epochs=100,\n",
        "                  verbose=1,\n",
        "                  validation_data=(X_test_prep, y_test))"
      ],
      "metadata": {
        "id": "N2ZhAFvtke31"
      },
      "execution_count": null,
      "outputs": []
    },
    {
      "cell_type": "code",
      "source": [
        "model.save ('')"
      ],
      "metadata": {
        "id": "bqjOUW6QlZAy"
      },
      "execution_count": null,
      "outputs": []
    },
    {
      "cell_type": "code",
      "source": [
        "loss=history.history['loss']\n",
        "val_loss=history.history['val_loss']\n",
        "epochs=range(1, len(loss) +1)\n",
        "plt.plot (epochs,loss,'y',lable='Training loss')\n",
        "plt.plot (epochs,val_loss,'r',label='Validation loss')\n",
        "plt.title('Training and validation loss')\n",
        "plt.xlabel('Epochs')\n",
        "plt,ylabel('Loss')\n",
        "plt.legend()"
      ],
      "metadata": {
        "id": "V7gbq8mwldA6"
      },
      "execution_count": null,
      "outputs": []
    }
  ]
}